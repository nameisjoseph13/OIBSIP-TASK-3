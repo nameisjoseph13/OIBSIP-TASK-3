{
 "cells": [
  {
   "cell_type": "code",
   "execution_count": null,
   "metadata": {},
   "outputs": [],
   "source": [
    "import numpy as np\n",
    "import pandas as pd\n",
    "import matplotlib.pyplot as plt\n",
    "import seaborn as sn"
   ]
  },
  {
   "cell_type": "code",
   "execution_count": null,
   "metadata": {},
   "outputs": [],
   "source": [
    "data = pd.read_csv('carprice.csv')\n",
    "data"
   ]
  },
  {
   "cell_type": "code",
   "execution_count": null,
   "metadata": {},
   "outputs": [],
   "source": [
    "data.info()"
   ]
  },
  {
   "cell_type": "code",
   "execution_count": null,
   "metadata": {},
   "outputs": [],
   "source": [
    "data.isna().sum()"
   ]
  },
  {
   "cell_type": "code",
   "execution_count": null,
   "metadata": {},
   "outputs": [],
   "source": [
    "data=data.drop(['car_ID'], axis =1)\n"
   ]
  },
  {
   "cell_type": "code",
   "execution_count": null,
   "metadata": {},
   "outputs": [],
   "source": [
    "data['CarName'].head()"
   ]
  },
  {
   "cell_type": "code",
   "execution_count": null,
   "metadata": {},
   "outputs": [],
   "source": [
    "data['Company'] = data['CarName'].apply(lambda x:x.split(' ')[0]) \n",
    "data['Company'].head()"
   ]
  },
  {
   "cell_type": "code",
   "execution_count": null,
   "metadata": {},
   "outputs": [],
   "source": [
    "data = data.drop(['CarName'], axis =1)"
   ]
  },
  {
   "cell_type": "code",
   "execution_count": null,
   "metadata": {},
   "outputs": [],
   "source": [
    "data['Company'].value_counts()"
   ]
  },
  {
   "cell_type": "code",
   "execution_count": null,
   "metadata": {},
   "outputs": [],
   "source": [
    "data['Company'].replace('toyouta', 'toyota',inplace=True)\n",
    "data['Company'].replace('Nissan', 'nissan',inplace=True)\n",
    "data['Company'].replace('maxda', 'mazda',inplace=True)\n",
    "data['Company'].replace('vokswagen', 'volkswagen',inplace=True)\n",
    "data['Company'].replace('vw', 'volkswagen',inplace=True)\n",
    "data['Company'].replace('porcshce', 'porsche',inplace=True)\n",
    "\n",
    "data['Company'].value_counts()"
   ]
  },
  {
   "cell_type": "code",
   "execution_count": null,
   "metadata": {},
   "outputs": [],
   "source": [
    "objcols = data.select_dtypes(include='object')\n",
    "objcols"
   ]
  },
  {
   "cell_type": "code",
   "execution_count": null,
   "metadata": {},
   "outputs": [],
   "source": [
    "numbers = { 'one': 1, 'two': 2, 'three': 3, 'four': 4, 'five': 5, 'six': 6, 'seven': 7, 'eight': 8, 'nine': 9, 'ten': 10, 'eleven':11, 'twelve': 12 }\n",
    "\n",
    "data = data.replace(numbers)\n",
    "data"
   ]
  },
  {
   "cell_type": "code",
   "execution_count": null,
   "metadata": {},
   "outputs": [],
   "source": [
    "\n",
    "independent_variables = data.drop(['price'], axis=1).columns\n",
    "\n",
    "for column in independent_variables:\n",
    "    plt.figure(figsize=(5, 5))\n",
    "\n",
    "    if data[column].dtype == 'object':\n",
    "        sn.boxplot(x=column, y='price', data=data)\n",
    "        plt.xticks(rotation=90)\n",
    "        plt.title(f'{column} vs. Price')\n",
    "\n",
    "    else:\n",
    "        plt.bar(data[column], data['price'], data=data )\n",
    "        plt.xlabel(column)\n",
    "        plt.ylabel('Price')\n",
    "        plt.title(f'{column} vs. Price')\n",
    "    \n",
    "    plt.grid(True)\n",
    "    plt.show()"
   ]
  },
  {
   "cell_type": "code",
   "execution_count": null,
   "metadata": {},
   "outputs": [],
   "source": [
    "data=data.drop(['doornumber','carheight','carwidth','enginetype','fuelsystem'], axis =1)\n"
   ]
  },
  {
   "cell_type": "code",
   "execution_count": null,
   "metadata": {},
   "outputs": [],
   "source": [
    "objcols = data.select_dtypes(include='object')\n",
    "objcols"
   ]
  },
  {
   "cell_type": "code",
   "execution_count": null,
   "metadata": {},
   "outputs": [],
   "source": [
    "data['symboling'].unique()"
   ]
  },
  {
   "cell_type": "code",
   "execution_count": null,
   "metadata": {},
   "outputs": [],
   "source": [
    "data = data.replace({\n",
    "        'fueltype': {'gas': 0, 'diesel': 1},\n",
    "        'aspiration': {'std': 0, 'turbo': 1},\n",
    "        'carbody': {'convertible': 0, 'hatchback': 1, 'sedan': 2, 'wagon': 3, 'hardtop': 4},\n",
    "        'drivewheel': {'rwd': 0, 'fwd': 1, '4wd': 2},\n",
    "        'enginelocation': {'front': 0, 'rear': 1},\n",
    "        'symboling': {-3: 0, -2: 1, -1: 2, 0: 3, 1: 4, 2: 5, 3: 6}\n",
    "    })\n",
    "\n"
   ]
  },
  {
   "cell_type": "code",
   "execution_count": null,
   "metadata": {},
   "outputs": [],
   "source": [
    "compnames = {}\n",
    "ls = data['Company'].unique()\n",
    "for i in range(22):\n",
    "    compnames[ls[i]] = i\n",
    "data = data.replace(compnames)\n"
   ]
  },
  {
   "cell_type": "code",
   "execution_count": null,
   "metadata": {},
   "outputs": [],
   "source": [
    "objcols = data.select_dtypes(include='object')\n",
    "objcols"
   ]
  },
  {
   "cell_type": "code",
   "execution_count": null,
   "metadata": {},
   "outputs": [],
   "source": [
    "from sklearn.model_selection import train_test_split\n",
    "from sklearn.ensemble import RandomForestRegressor\n",
    "from sklearn.metrics import mean_squared_error, r2_score\n",
    "\n",
    "X = data.drop('price', axis=1)  \n",
    "y = data['price']            \n",
    "\n",
    "X_train, X_test, y_train, y_test = train_test_split(X, y, test_size=0.2, random_state=42)\n"
   ]
  },
  {
   "cell_type": "code",
   "execution_count": null,
   "metadata": {},
   "outputs": [],
   "source": [
    "from sklearn.model_selection import cross_val_score\n",
    "\n",
    "estimators = [100, 200, 300, 400, 500]\n",
    "\n",
    "cv_scorelist = []\n",
    "\n",
    "# Performing k-fold cross-validation for each number of estimators\n",
    "\n",
    "for n in estimators:\n",
    "    \n",
    "    random_forest = RandomForestRegressor(n_estimators=n, random_state=42)\n",
    "    \n",
    "    # Perform 5-fold cross-validation and get the R2 scores for each fold\n",
    "    scores = cross_val_score(random_forest, X, y, cv=5, scoring='r2')\n",
    "    \n",
    "    # Calculate the mean R2 score across all folds\n",
    "    mean_r2_scores = np.mean(scores)\n",
    "    \n",
    "    cv_scorelist.append(mean_r2_scores)\n",
    "\n",
    "best_index = np.argmax(cv_scorelist)\n",
    "\n",
    "best_n_estimators = estimators[best_index]"
   ]
  },
  {
   "cell_type": "code",
   "execution_count": null,
   "metadata": {},
   "outputs": [],
   "source": [
    "random_forest = RandomForestRegressor(n_estimators=best_n_estimators, random_state=42)\n",
    "random_forest.fit(X_train, y_train)\n",
    "\n",
    "y_pred = random_forest.predict(X_test)\n",
    "\n",
    "r2 = r2_score(y_test, y_pred)\n",
    "\n",
    "print(\"R-squared (R2):\", r2*100)"
   ]
  },
  {
   "cell_type": "code",
   "execution_count": null,
   "metadata": {},
   "outputs": [],
   "source": [
    "comparison_df = pd.DataFrame({'Real Price': y_test, 'Expected Price': y_pred})\n",
    "print(comparison_df)"
   ]
  },
  {
   "cell_type": "code",
   "execution_count": null,
   "metadata": {},
   "outputs": [],
   "source": [
    "plt.figure(figsize=(8, 6))\n",
    "plt.scatter(y_pred, y_test, color='blue', label='Actual vs. Predicted')\n",
    "plt.plot([min(y_pred), max(y_pred)], [min(y_test), max(y_test)], color='red', linestyle='-', label='Ideal Line')\n",
    "plt.xlabel('Predicted Values (y_pred)')\n",
    "plt.ylabel('Actual Values (y_test)')\n",
    "plt.title('Actual vs. Predicted Values')\n",
    "plt.legend()\n",
    "plt.grid(True)\n",
    "plt.show()"
   ]
  },
  {
   "cell_type": "code",
   "execution_count": null,
   "metadata": {},
   "outputs": [],
   "source": [
    "user = {\n",
    "    'symboling': 4,'fueltype': 'gas','aspiration':'std','carbody':'sedan','drivewheel':'fwd','enginelocation':'front','wheelbase':105.8,'carlength':192.7,\n",
    "    'curbweight':2844,'cylindernumber': 'five','enginesize': 136,'boreratio': 3.19,'stroke':3.4,'compressionratio':8.5,'horsepower' : 110,\n",
    "    'peakrpm': 5500,'citympg':19,'highwaympg':25,'Company': 'audi'\n",
    "}\n",
    "\n",
    "    \n",
    "userdata = pd.DataFrame([user])\n",
    "\n",
    "userdata = userdata.replace({\n",
    "        'fueltype': {'gas': 0, 'diesel': 1},\n",
    "        'aspiration': {'std': 0, 'turbo': 1},\n",
    "        'carbody': {'convertible': 0, 'hatchback': 1, 'sedan': 2, 'wagon': 3, 'hardtop': 4},\n",
    "        'drivewheel': {'rwd': 0, 'fwd': 1, '4wd': 2},\n",
    "        'enginelocation': {'front': 0, 'rear': 1},\n",
    "        'symboling': {-3: 0, -2: 1, -1: 2, 0: 3, 1: 4, 2: 5, 3: 6}\n",
    "    })\n",
    "\n",
    "\n",
    "userdata = userdata.replace(compnames)\n",
    "userdata = userdata.replace(numbers)\n",
    "\n",
    "predicted_price = random_forest.predict(userdata)\n",
    "\n",
    "print(\"Predicted Price:\", predicted_price[0])"
   ]
  }
 ],
 "metadata": {
  "kernelspec": {
   "display_name": "Python 3",
   "language": "python",
   "name": "python3"
  },
  "language_info": {
   "codemirror_mode": {
    "name": "ipython",
    "version": 3
   },
   "file_extension": ".py",
   "mimetype": "text/x-python",
   "name": "python",
   "nbconvert_exporter": "python",
   "pygments_lexer": "ipython3",
   "version": "3.11.1"
  },
  "orig_nbformat": 4
 },
 "nbformat": 4,
 "nbformat_minor": 2
}
